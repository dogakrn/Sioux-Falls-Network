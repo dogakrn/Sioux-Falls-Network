{
 "cells": [
  {
   "cell_type": "code",
   "execution_count": 2,
   "id": "25271f77-2a37-4f47-b886-8fb101242049",
   "metadata": {
    "tags": []
   },
   "outputs": [
    {
     "name": "stdout",
     "output_type": "stream",
     "text": [
      "Toplam Ağırlık: 72\n",
      "Teslimat Rotası: 1 → 3 → 4 → 5 → 6 → 8 → 7 → 18 → 16 → 17 → 19 → 15 → 22 → 21 → 24 → 23 → 14 → 11 → 10 → 9 → 20 → 2 → 12 → 13 → 1\n"
     ]
    }
   ],
   "source": [
    "import networkx as nx\n",
    "import heapq\n",
    "\n",
    "def prim(graph, start_node):\n",
    "    mst_edges = []\n",
    "    total_weight = 0\n",
    "    visited = set([start_node])\n",
    "    edges = [(weight, start_node, to) for to, weight in graph[start_node]]\n",
    "    heapq.heapify(edges)\n",
    "\n",
    "    while edges:\n",
    "        weight, frm, to = heapq.heappop(edges)\n",
    "        if to not in visited:\n",
    "            visited.add(to)\n",
    "            mst_edges.append((frm, to))\n",
    "            total_weight += weight\n",
    "\n",
    "            for to_next, weight in graph[to]:\n",
    "                if to_next not in visited:\n",
    "                    heapq.heappush(edges, (weight, to, to_next))\n",
    "\n",
    "    return mst_edges, total_weight\n",
    "\n",
    "edges = [\n",
    "    (1, 2, 6), (1, 3, 4), (2, 6, 5), (3, 4, 4), (4, 5, 2), (5, 6, 4),\n",
    "    (3, 12, 4), (4, 11, 6), (5, 9, 5), (9, 10, 3), (6, 8, 2), (8, 16, 5),\n",
    "    (10, 16, 4), (8, 7, 3), (7, 18, 2), (12, 11, 6), (11, 10, 5),\n",
    "    (10, 16, 4), (16, 18, 3), (12, 13, 3), (11, 14, 4), (14, 23, 4),\n",
    "    (23, 24, 2), (10, 15, 6), (15, 22, 3), (22, 21, 2), (16, 17, 2),\n",
    "    (17, 19, 2), (19, 20, 4), (18, 20, 4), (13, 24, 4), (14, 15, 5),\n",
    "    (23, 22, 4), (24, 21, 3), (10, 17, 8), (15, 19, 3), (22, 20, 5),\n",
    "    (21, 20, 6)\n",
    "]\n",
    "\n",
    "G = nx.Graph()\n",
    "G.add_weighted_edges_from(edges)\n",
    "\n",
    "\n",
    "prim_graph = {node: [] for node in G.nodes()}\n",
    "for u, v, data in G.edges(data=True):\n",
    "    prim_graph[u].append((v, data['weight']))\n",
    "    prim_graph[v].append((u, data['weight']))\n",
    "\n",
    "\n",
    "mst_edges, total_weight = prim(prim_graph, 1)\n",
    "\n",
    "\n",
    "mst_tree = nx.Graph()\n",
    "mst_tree.add_edges_from(mst_edges)\n",
    "dfs_nodes = list(nx.dfs_preorder_nodes(mst_tree, source=1))\n",
    "\n",
    "if dfs_nodes[-1] != 1:\n",
    "    dfs_nodes.append(1)\n",
    "\n",
    "total_weight, dfs_nodes\n",
    "print(\"Toplam Ağırlık:\", total_weight)\n",
    "print(\"Teslimat Rotası:\", ' → '.join(map(str, dfs_nodes)))\n"
   ]
  },
  {
   "cell_type": "code",
   "execution_count": null,
   "id": "8935e4f7-adea-494a-8402-1f20ebaf4300",
   "metadata": {},
   "outputs": [],
   "source": []
  }
 ],
 "metadata": {
  "kernelspec": {
   "display_name": "Python 3 (ipykernel)",
   "language": "python",
   "name": "python3"
  },
  "language_info": {
   "codemirror_mode": {
    "name": "ipython",
    "version": 3
   },
   "file_extension": ".py",
   "mimetype": "text/x-python",
   "name": "python",
   "nbconvert_exporter": "python",
   "pygments_lexer": "ipython3",
   "version": "3.11.5"
  }
 },
 "nbformat": 4,
 "nbformat_minor": 5
}
