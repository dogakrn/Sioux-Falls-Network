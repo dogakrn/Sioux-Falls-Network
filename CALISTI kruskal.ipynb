{
 "cells": [
  {
   "cell_type": "code",
   "execution_count": 5,
   "id": "c8ad87ea-91e0-4158-93eb-cfdbbdb36046",
   "metadata": {
    "tags": []
   },
   "outputs": [
    {
     "name": "stdout",
     "output_type": "stream",
     "text": [
      "Toplam Ağırlık: 72\n",
      "Teslimat Rotası: 1 → 3 → 4 → 5 → 6 → 8 → 7 → 18 → 16 → 17 → 19 → 15 → 22 → 21 → 24 → 23 → 14 → 11 → 10 → 9 → 20 → 2 → 12 → 13 → 1\n"
     ]
    }
   ],
   "source": [
    "import networkx as nx\n",
    "\n",
    "edges = [\n",
    "    (1,2,6),\n",
    "    (1,3,4),\n",
    "    (2,6,5),\n",
    "    (3,4,4),\n",
    "    (4,5,2),\n",
    "    (5,6,4),\n",
    "    (3,12,4),\n",
    "    (4,11,6),\n",
    "    (5,9,5),\n",
    "    (9,10,3),\n",
    "    (6,8,2),\n",
    "    (8,16,5),\n",
    "    (10,16,4),\n",
    "    (8,7,3),\n",
    "    (7,18,2),\n",
    "    (12,11,6),\n",
    "    (11,10,5),\n",
    "    (10,16,4),\n",
    "    (16,18,3),\n",
    "    (12,13,3),\n",
    "    (11,14,4),\n",
    "    (14,23,4),\n",
    "    (23,24,2),\n",
    "    (10,15,6),\n",
    "    (15,22,3),\n",
    "    (22,21,2),\n",
    "    (16,17,2),\n",
    "    (17,19,2),\n",
    "    (19,20,4),\n",
    "    (18,20,4),\n",
    "    (13,24,4),\n",
    "    (14,15,5),\n",
    "    (23,22,4),\n",
    "    (24,21,3),\n",
    "    (10,17,8),\n",
    "    (15,19,3),\n",
    "    (22,20,5),\n",
    "    (21,20,6),\n",
    "]\n",
    "\n",
    "G = nx.Graph()\n",
    "\n",
    "G.add_weighted_edges_from(edges)\n",
    "\n",
    "mst = nx.minimum_spanning_tree(G, algorithm='kruskal')\n",
    "\n",
    "dfs_nodes = list(nx.dfs_preorder_nodes(mst, source=1))\n",
    "\n",
    "if dfs_nodes[-1] != 1:\n",
    "    dfs_nodes.append(1)\n",
    "\n",
    "\n",
    "total_weight = sum(G[u][v]['weight'] for u, v in mst.edges())\n",
    "\n",
    "print(\"Toplam Ağırlık:\", total_weight)\n",
    "print(\"Teslimat Rotası:\", ' → '.join(map(str, dfs_nodes)))"
   ]
  },
  {
   "cell_type": "code",
   "execution_count": null,
   "id": "2a2eda94-1f11-4601-81e1-52eb22bd294d",
   "metadata": {},
   "outputs": [],
   "source": []
  }
 ],
 "metadata": {
  "kernelspec": {
   "display_name": "Python 3 (ipykernel)",
   "language": "python",
   "name": "python3"
  },
  "language_info": {
   "codemirror_mode": {
    "name": "ipython",
    "version": 3
   },
   "file_extension": ".py",
   "mimetype": "text/x-python",
   "name": "python",
   "nbconvert_exporter": "python",
   "pygments_lexer": "ipython3",
   "version": "3.11.5"
  }
 },
 "nbformat": 4,
 "nbformat_minor": 5
}
